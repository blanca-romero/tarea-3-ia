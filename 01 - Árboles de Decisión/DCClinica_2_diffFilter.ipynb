{
 "cells": [
  {
   "cell_type": "code",
   "execution_count": 1,
   "metadata": {},
   "outputs": [],
   "source": [
    "import numpy as np\n",
    "import os\n",
    "import pandas as pd # lo agregué para leer los datos y filtrarlos más fácilmente\n",
    "import matplotlib.pyplot as plt\n",
    "\n",
    "np.random.seed(20638752) # Pon tu número de alumno como seed (J = 0)"
   ]
  },
  {
   "cell_type": "markdown",
   "metadata": {},
   "source": [
    "Recuerda usar variables descriptivas durante toda la tarea"
   ]
  },
  {
   "cell_type": "markdown",
   "metadata": {},
   "source": [
    "# Actividad 1: Limpiando los datos"
   ]
  },
  {
   "cell_type": "code",
   "execution_count": 11,
   "metadata": {},
   "outputs": [],
   "source": [
    "df = pd.read_csv('../db_diabetes.csv', sep=',')"
   ]
  },
  {
   "cell_type": "markdown",
   "metadata": {},
   "source": [
    "Vamos a ver la cantidad de valores nulos (``null``) hay en el dataset, separandolo por atributo."
   ]
  },
  {
   "cell_type": "code",
   "execution_count": 3,
   "metadata": {},
   "outputs": [
    {
     "name": "stdout",
     "output_type": "stream",
     "text": [
      "Diabetes_binary         215\n",
      "HighBP                  189\n",
      "HighChol                174\n",
      "CholCheck               189\n",
      "BMI                     197\n",
      "Smoker                  216\n",
      "Stroke                  219\n",
      "HeartDiseaseorAttack    213\n",
      "PhysActivity            188\n",
      "Fruits                  244\n",
      "Veggies                 186\n",
      "HvyAlcoholConsump       203\n",
      "AnyHealthcare           190\n",
      "NoDocbcCost             191\n",
      "GenHlth                 171\n",
      "MentHlth                212\n",
      "PhysHlth                193\n",
      "DiffWalk                182\n",
      "Sex                     190\n",
      "Age                     212\n",
      "Education               212\n",
      "Income                  197\n",
      "HairColor               205\n",
      "Height                  206\n",
      "Weight                  202\n",
      "dtype: int64\n",
      "mínima cant de nulos (en un atributo): 171\n",
      "máxima cantidad de nulos (en un atributo): 244\n"
     ]
    }
   ],
   "source": [
    "nulos = df.isna().sum()\n",
    "print(nulos)\n",
    "print('mínima cant de nulos (en un atributo):', min(nulos))\n",
    "print('máxima cantidad de nulos (en un atributo):', max(nulos))"
   ]
  },
  {
   "cell_type": "code",
   "execution_count": 4,
   "metadata": {},
   "outputs": [
    {
     "name": "stdout",
     "output_type": "stream",
     "text": [
      "La cantidad de filas en el dataset es 70692\n",
      "[ 0.2418944152096418% - 0.34515928252136024% ]\n"
     ]
    }
   ],
   "source": [
    "print(\"La cantidad de filas en el dataset es\",len(df))\n",
    "print(f\"[ {(171/70692)*100}% - {(244/70692)*100}% ]\")"
   ]
  },
  {
   "cell_type": "markdown",
   "metadata": {},
   "source": [
    "Entonces como podemos ver, la cantidad de nulos va entre 171 y 244 para cada atributo. El dataset tiene 70692 filas, por lo que la cantidad de nulos representa entre un 0.24% y un 0.35% de los datos. Esta es una fracción muy pequeña, por lo que eliminaremos los datos que contengan **dos o más nulos en algún atributo relevante** (No consideramos todas las columnas al eliminar nulos ya que se perderían muchos datos, y por ejemplo, si hubiera un dato con ``HairColor = null`` se estaría eliminando un dato que sigue siendo útil).\n",
    "\n",
    "Aparte se eliminarán **todos los nulos de la columna ``Diabetes_binary``** ya que no nos sirve tener datos si no sabemos si tiene diabetes o no (no sirve para el propósito de esta tarea)"
   ]
  },
  {
   "cell_type": "markdown",
   "metadata": {},
   "source": [
    "No tomaremos en cuenta los nulos de las columnas ``HairColor``, ``Income``, ``Education``, ``AnyHealthcare``, ``CholCheck`` y ``NoDocbcCost`` porque son cosas que no indican nada acerca de la salud de las personas (o su tendencia a tener diabetes)\n",
    "\n",
    "Tampoco se tendrá en cuenta la columna ``MentHlth`` ya que la salud mental no afecta (tan directamente) en la salud física.\n",
    "\n",
    "Tampoco se eliminarán los nulos de las columnas ``Height`` y ``Weight`` ya que estas componen al índice de masa corporal (``BMI``), y si se tiene éste último no es necesario tener la altura ni el peso, ya que es el BMI el que describe de mejor manera la salud de las personas.\n",
    "\n",
    "Tampoco se eliminarán los nulos de las columnas ``PhysActivity``, ``Age`` y ``Sex`` ya que, si bien estas pueden ser útiles en notar tendencias, no son indicadores fuertes de la diabetes (por ejemplo, las personas que hacen actividad física mostrarán un mayor nivel de salud general, y éste último será un valor que sí tendremos disponible para hacer predicciones).\n",
    "\n",
    "Finalmente tampoco se eliminarán los nulos de las columnas ``Fruits`` y ``Veggies`` ya que estos indican la alimentación de las personas, pero influyen directamente sobre la salud física, atributo que sí estamos tomando en cuenta. No son indispensables para la predicción de diabetes.\n",
    "\n",
    "**OBS**: solo se eliminarán aquellos datos que tengan 2 o más valores nulos dentro de las columnas relevantes, sino se perderían muchos datos por falta de un solo atributo, y el resto de los atributos de ese dato (que pueden ser muy útiles) se perderían."
   ]
  },
  {
   "cell_type": "code",
   "execution_count": 12,
   "metadata": {},
   "outputs": [
    {
     "name": "stdout",
     "output_type": "stream",
     "text": [
      "Se eliminan los datos que contengan nulos en las columnas:\n",
      " ['Diabetes_binary', 'HighBP', 'HighChol', 'BMI', 'Smoker', 'Stroke', 'HeartDiseaseorAttack', 'HvyAlcoholConsump', 'GenHlth', 'PhysHlth', 'DiffWalk']\n"
     ]
    },
    {
     "data": {
      "text/html": [
       "<div>\n",
       "<style scoped>\n",
       "    .dataframe tbody tr th:only-of-type {\n",
       "        vertical-align: middle;\n",
       "    }\n",
       "\n",
       "    .dataframe tbody tr th {\n",
       "        vertical-align: top;\n",
       "    }\n",
       "\n",
       "    .dataframe thead th {\n",
       "        text-align: right;\n",
       "    }\n",
       "</style>\n",
       "<table border=\"1\" class=\"dataframe\">\n",
       "  <thead>\n",
       "    <tr style=\"text-align: right;\">\n",
       "      <th></th>\n",
       "      <th>Diabetes_binary</th>\n",
       "      <th>HighBP</th>\n",
       "      <th>HighChol</th>\n",
       "      <th>CholCheck</th>\n",
       "      <th>BMI</th>\n",
       "      <th>Smoker</th>\n",
       "      <th>Stroke</th>\n",
       "      <th>HeartDiseaseorAttack</th>\n",
       "      <th>PhysActivity</th>\n",
       "      <th>Fruits</th>\n",
       "      <th>...</th>\n",
       "      <th>MentHlth</th>\n",
       "      <th>PhysHlth</th>\n",
       "      <th>DiffWalk</th>\n",
       "      <th>Sex</th>\n",
       "      <th>Age</th>\n",
       "      <th>Education</th>\n",
       "      <th>Income</th>\n",
       "      <th>HairColor</th>\n",
       "      <th>Height</th>\n",
       "      <th>Weight</th>\n",
       "    </tr>\n",
       "  </thead>\n",
       "  <tbody>\n",
       "    <tr>\n",
       "      <th>0</th>\n",
       "      <td>no_diabetes</td>\n",
       "      <td>1.0</td>\n",
       "      <td>0.0</td>\n",
       "      <td>1.0</td>\n",
       "      <td>26.0</td>\n",
       "      <td>0.0</td>\n",
       "      <td>0.0</td>\n",
       "      <td>0.0</td>\n",
       "      <td>1.0</td>\n",
       "      <td>0.0</td>\n",
       "      <td>...</td>\n",
       "      <td>5.0</td>\n",
       "      <td>30.0</td>\n",
       "      <td>0.0</td>\n",
       "      <td>male</td>\n",
       "      <td>4.0</td>\n",
       "      <td>6.0</td>\n",
       "      <td>8.0</td>\n",
       "      <td>grey</td>\n",
       "      <td>1.70</td>\n",
       "      <td>75.0</td>\n",
       "    </tr>\n",
       "    <tr>\n",
       "      <th>1</th>\n",
       "      <td>no_diabetes</td>\n",
       "      <td>1.0</td>\n",
       "      <td>1.0</td>\n",
       "      <td>1.0</td>\n",
       "      <td>26.0</td>\n",
       "      <td>1.0</td>\n",
       "      <td>1.0</td>\n",
       "      <td>0.0</td>\n",
       "      <td>0.0</td>\n",
       "      <td>1.0</td>\n",
       "      <td>...</td>\n",
       "      <td>0.0</td>\n",
       "      <td>0.0</td>\n",
       "      <td>0.0</td>\n",
       "      <td>male</td>\n",
       "      <td>12.0</td>\n",
       "      <td>6.0</td>\n",
       "      <td>8.0</td>\n",
       "      <td>blonde</td>\n",
       "      <td>1.66</td>\n",
       "      <td>72.0</td>\n",
       "    </tr>\n",
       "    <tr>\n",
       "      <th>2</th>\n",
       "      <td>no_diabetes</td>\n",
       "      <td>0.0</td>\n",
       "      <td>0.0</td>\n",
       "      <td>1.0</td>\n",
       "      <td>26.0</td>\n",
       "      <td>0.0</td>\n",
       "      <td>0.0</td>\n",
       "      <td>0.0</td>\n",
       "      <td>1.0</td>\n",
       "      <td>1.0</td>\n",
       "      <td>...</td>\n",
       "      <td>0.0</td>\n",
       "      <td>10.0</td>\n",
       "      <td>0.0</td>\n",
       "      <td>male</td>\n",
       "      <td>13.0</td>\n",
       "      <td>6.0</td>\n",
       "      <td>8.0</td>\n",
       "      <td>black</td>\n",
       "      <td>1.74</td>\n",
       "      <td>79.0</td>\n",
       "    </tr>\n",
       "    <tr>\n",
       "      <th>3</th>\n",
       "      <td>no_diabetes</td>\n",
       "      <td>1.0</td>\n",
       "      <td>1.0</td>\n",
       "      <td>1.0</td>\n",
       "      <td>28.0</td>\n",
       "      <td>1.0</td>\n",
       "      <td>0.0</td>\n",
       "      <td>0.0</td>\n",
       "      <td>1.0</td>\n",
       "      <td>1.0</td>\n",
       "      <td>...</td>\n",
       "      <td>0.0</td>\n",
       "      <td>3.0</td>\n",
       "      <td>0.0</td>\n",
       "      <td>male</td>\n",
       "      <td>11.0</td>\n",
       "      <td>6.0</td>\n",
       "      <td>8.0</td>\n",
       "      <td>red</td>\n",
       "      <td>1.69</td>\n",
       "      <td>80.0</td>\n",
       "    </tr>\n",
       "    <tr>\n",
       "      <th>4</th>\n",
       "      <td>no_diabetes</td>\n",
       "      <td>0.0</td>\n",
       "      <td>0.0</td>\n",
       "      <td>1.0</td>\n",
       "      <td>29.0</td>\n",
       "      <td>1.0</td>\n",
       "      <td>0.0</td>\n",
       "      <td>0.0</td>\n",
       "      <td>1.0</td>\n",
       "      <td>1.0</td>\n",
       "      <td>...</td>\n",
       "      <td>0.0</td>\n",
       "      <td>0.0</td>\n",
       "      <td>0.0</td>\n",
       "      <td>female</td>\n",
       "      <td>8.0</td>\n",
       "      <td>5.0</td>\n",
       "      <td>8.0</td>\n",
       "      <td>black</td>\n",
       "      <td>1.72</td>\n",
       "      <td>86.0</td>\n",
       "    </tr>\n",
       "    <tr>\n",
       "      <th>...</th>\n",
       "      <td>...</td>\n",
       "      <td>...</td>\n",
       "      <td>...</td>\n",
       "      <td>...</td>\n",
       "      <td>...</td>\n",
       "      <td>...</td>\n",
       "      <td>...</td>\n",
       "      <td>...</td>\n",
       "      <td>...</td>\n",
       "      <td>...</td>\n",
       "      <td>...</td>\n",
       "      <td>...</td>\n",
       "      <td>...</td>\n",
       "      <td>...</td>\n",
       "      <td>...</td>\n",
       "      <td>...</td>\n",
       "      <td>...</td>\n",
       "      <td>...</td>\n",
       "      <td>...</td>\n",
       "      <td>...</td>\n",
       "      <td>...</td>\n",
       "    </tr>\n",
       "    <tr>\n",
       "      <th>70687</th>\n",
       "      <td>diabetes</td>\n",
       "      <td>0.0</td>\n",
       "      <td>1.0</td>\n",
       "      <td>1.0</td>\n",
       "      <td>37.0</td>\n",
       "      <td>0.0</td>\n",
       "      <td>0.0</td>\n",
       "      <td>0.0</td>\n",
       "      <td>0.0</td>\n",
       "      <td>0.0</td>\n",
       "      <td>...</td>\n",
       "      <td>0.0</td>\n",
       "      <td>0.0</td>\n",
       "      <td>0.0</td>\n",
       "      <td>female</td>\n",
       "      <td>6.0</td>\n",
       "      <td>4.0</td>\n",
       "      <td>1.0</td>\n",
       "      <td>black</td>\n",
       "      <td>1.72</td>\n",
       "      <td>109.0</td>\n",
       "    </tr>\n",
       "    <tr>\n",
       "      <th>70688</th>\n",
       "      <td>diabetes</td>\n",
       "      <td>0.0</td>\n",
       "      <td>1.0</td>\n",
       "      <td>1.0</td>\n",
       "      <td>29.0</td>\n",
       "      <td>1.0</td>\n",
       "      <td>0.0</td>\n",
       "      <td>1.0</td>\n",
       "      <td>0.0</td>\n",
       "      <td>1.0</td>\n",
       "      <td>...</td>\n",
       "      <td>0.0</td>\n",
       "      <td>0.0</td>\n",
       "      <td>1.0</td>\n",
       "      <td>male</td>\n",
       "      <td>10.0</td>\n",
       "      <td>3.0</td>\n",
       "      <td>6.0</td>\n",
       "      <td>black</td>\n",
       "      <td>1.74</td>\n",
       "      <td>88.0</td>\n",
       "    </tr>\n",
       "    <tr>\n",
       "      <th>70689</th>\n",
       "      <td>diabetes</td>\n",
       "      <td>1.0</td>\n",
       "      <td>1.0</td>\n",
       "      <td>1.0</td>\n",
       "      <td>25.0</td>\n",
       "      <td>0.0</td>\n",
       "      <td>0.0</td>\n",
       "      <td>1.0</td>\n",
       "      <td>0.0</td>\n",
       "      <td>1.0</td>\n",
       "      <td>...</td>\n",
       "      <td>15.0</td>\n",
       "      <td>0.0</td>\n",
       "      <td>1.0</td>\n",
       "      <td>female</td>\n",
       "      <td>13.0</td>\n",
       "      <td>6.0</td>\n",
       "      <td>4.0</td>\n",
       "      <td>brown</td>\n",
       "      <td>1.71</td>\n",
       "      <td>73.0</td>\n",
       "    </tr>\n",
       "    <tr>\n",
       "      <th>70690</th>\n",
       "      <td>diabetes</td>\n",
       "      <td>1.0</td>\n",
       "      <td>1.0</td>\n",
       "      <td>1.0</td>\n",
       "      <td>18.0</td>\n",
       "      <td>0.0</td>\n",
       "      <td>0.0</td>\n",
       "      <td>0.0</td>\n",
       "      <td>0.0</td>\n",
       "      <td>0.0</td>\n",
       "      <td>...</td>\n",
       "      <td>0.0</td>\n",
       "      <td>0.0</td>\n",
       "      <td>1.0</td>\n",
       "      <td>female</td>\n",
       "      <td>11.0</td>\n",
       "      <td>2.0</td>\n",
       "      <td>4.0</td>\n",
       "      <td>blonde</td>\n",
       "      <td>1.71</td>\n",
       "      <td>53.0</td>\n",
       "    </tr>\n",
       "    <tr>\n",
       "      <th>70691</th>\n",
       "      <td>diabetes</td>\n",
       "      <td>1.0</td>\n",
       "      <td>1.0</td>\n",
       "      <td>1.0</td>\n",
       "      <td>25.0</td>\n",
       "      <td>0.0</td>\n",
       "      <td>0.0</td>\n",
       "      <td>1.0</td>\n",
       "      <td>1.0</td>\n",
       "      <td>1.0</td>\n",
       "      <td>...</td>\n",
       "      <td>0.0</td>\n",
       "      <td>0.0</td>\n",
       "      <td>0.0</td>\n",
       "      <td>female</td>\n",
       "      <td>9.0</td>\n",
       "      <td>6.0</td>\n",
       "      <td>2.0</td>\n",
       "      <td>black</td>\n",
       "      <td>1.67</td>\n",
       "      <td>70.0</td>\n",
       "    </tr>\n",
       "  </tbody>\n",
       "</table>\n",
       "<p>70477 rows × 25 columns</p>\n",
       "</div>"
      ],
      "text/plain": [
       "      Diabetes_binary  HighBP  HighChol  CholCheck   BMI  Smoker  Stroke  \\\n",
       "0         no_diabetes     1.0       0.0        1.0  26.0     0.0     0.0   \n",
       "1         no_diabetes     1.0       1.0        1.0  26.0     1.0     1.0   \n",
       "2         no_diabetes     0.0       0.0        1.0  26.0     0.0     0.0   \n",
       "3         no_diabetes     1.0       1.0        1.0  28.0     1.0     0.0   \n",
       "4         no_diabetes     0.0       0.0        1.0  29.0     1.0     0.0   \n",
       "...               ...     ...       ...        ...   ...     ...     ...   \n",
       "70687        diabetes     0.0       1.0        1.0  37.0     0.0     0.0   \n",
       "70688        diabetes     0.0       1.0        1.0  29.0     1.0     0.0   \n",
       "70689        diabetes     1.0       1.0        1.0  25.0     0.0     0.0   \n",
       "70690        diabetes     1.0       1.0        1.0  18.0     0.0     0.0   \n",
       "70691        diabetes     1.0       1.0        1.0  25.0     0.0     0.0   \n",
       "\n",
       "       HeartDiseaseorAttack  PhysActivity  Fruits  ...  MentHlth  PhysHlth  \\\n",
       "0                       0.0           1.0     0.0  ...       5.0      30.0   \n",
       "1                       0.0           0.0     1.0  ...       0.0       0.0   \n",
       "2                       0.0           1.0     1.0  ...       0.0      10.0   \n",
       "3                       0.0           1.0     1.0  ...       0.0       3.0   \n",
       "4                       0.0           1.0     1.0  ...       0.0       0.0   \n",
       "...                     ...           ...     ...  ...       ...       ...   \n",
       "70687                   0.0           0.0     0.0  ...       0.0       0.0   \n",
       "70688                   1.0           0.0     1.0  ...       0.0       0.0   \n",
       "70689                   1.0           0.0     1.0  ...      15.0       0.0   \n",
       "70690                   0.0           0.0     0.0  ...       0.0       0.0   \n",
       "70691                   1.0           1.0     1.0  ...       0.0       0.0   \n",
       "\n",
       "       DiffWalk     Sex   Age  Education  Income  HairColor Height  Weight  \n",
       "0           0.0    male   4.0        6.0     8.0       grey   1.70    75.0  \n",
       "1           0.0    male  12.0        6.0     8.0     blonde   1.66    72.0  \n",
       "2           0.0    male  13.0        6.0     8.0      black   1.74    79.0  \n",
       "3           0.0    male  11.0        6.0     8.0        red   1.69    80.0  \n",
       "4           0.0  female   8.0        5.0     8.0      black   1.72    86.0  \n",
       "...         ...     ...   ...        ...     ...        ...    ...     ...  \n",
       "70687       0.0  female   6.0        4.0     1.0      black   1.72   109.0  \n",
       "70688       1.0    male  10.0        3.0     6.0      black   1.74    88.0  \n",
       "70689       1.0  female  13.0        6.0     4.0      brown   1.71    73.0  \n",
       "70690       1.0  female  11.0        2.0     4.0     blonde   1.71    53.0  \n",
       "70691       0.0  female   9.0        6.0     2.0      black   1.67    70.0  \n",
       "\n",
       "[70477 rows x 25 columns]"
      ]
     },
     "execution_count": 12,
     "metadata": {},
     "output_type": "execute_result"
    }
   ],
   "source": [
    "innecesarias = [\"HairColor\", \"Income\", \"Education\", \"AnyHealthcare\", \"CholCheck\", \"NoDocbcCost\", \"MentHlth\", \"Height\", \n",
    "\"Weight\", \"PhysActivity\", \"Age\", \"Sex\", \"Fruits\", \"Veggies\"]\n",
    "\n",
    "#  buscamos las columnas que sí tendremos en cuenta para eliminar nulos\n",
    "cols = [item for item in df.columns if item not in innecesarias]\n",
    "print('Se eliminan los datos que contengan nulos en las columnas:\\n',cols)\n",
    "\n",
    "# borramos los datos que no tienen info en Diabetes_binary\n",
    "df.dropna(subset=['Diabetes_binary'], inplace=True)\n",
    "\n",
    "# borramos los datos nulos (si hay 2 o más)\n",
    "df.dropna(subset=cols, inplace=True, thresh=1)\n",
    "df\n"
   ]
  },
  {
   "cell_type": "markdown",
   "metadata": {},
   "source": [
    "# Actividad 2: Visualizando y comprendiendo"
   ]
  },
  {
   "cell_type": "markdown",
   "metadata": {},
   "source": [
    "Eliminaré las columnas de ``HairColor``, ``Income``, ``Education``, ``AnyHealthcare`` y ``NoDocbcCost`` porque son cosas que no indican nada acerca de la salud de las personas (o su tendencia a tener diabetes)\n",
    "\n",
    "También se eliminan las columnas ``Height`` y ``Weight`` ya que estas componen al índice de masa corporal (``BMI``) y los atributos no debieran ser dependientes entre sí (además que el BMI es el atributo que nos entrega la información reelevante acerca de la salud de las personas)."
   ]
  },
  {
   "cell_type": "code",
   "execution_count": 6,
   "metadata": {},
   "outputs": [
    {
     "name": "stdout",
     "output_type": "stream",
     "text": [
      "Diabetes_binary, HighBP, HighChol, CholCheck, BMI, Smoker, Stroke, HeartDiseaseorAttack, PhysActivity, Fruits, Veggies, HvyAlcoholConsump, GenHlth, MentHlth, PhysHlth, DiffWalk, Sex, Age\n"
     ]
    }
   ],
   "source": [
    "df.drop([\"HairColor\", \"Income\", \"Education\", \"AnyHealthcare\", \"NoDocbcCost\", \"Height\", \"Weight\"], axis = 1, inplace=True)\n",
    "print(\", \".join(df.columns))"
   ]
  },
  {
   "cell_type": "markdown",
   "metadata": {},
   "source": [
    "Cambiamos los valores de la columna ``Diabetes_binary`` tal que ``no_diabetes = 0`` y ``diabetes = 1`` para poder hacer cálculos con respecto a las personas con diabetes"
   ]
  },
  {
   "cell_type": "code",
   "execution_count": null,
   "metadata": {},
   "outputs": [],
   "source": [
    "df_copy = df.copy(deep=True) # hago una copia de los datos para modificarlos\n",
    "df_copy['Diabetes_binary'].replace(['diabetes', 'no_diabetes'], [1, 0], inplace=True)"
   ]
  },
  {
   "cell_type": "markdown",
   "metadata": {},
   "source": [
    "Buscaremos la relación entre algunos atributos pertinentes a la salud de las personas y la tendencia a tener diabetes:"
   ]
  },
  {
   "cell_type": "code",
   "execution_count": null,
   "metadata": {},
   "outputs": [],
   "source": [
    "# print(df_copy.groupby(\"HighBP\").mean(numeric_only=True)['Diabetes_binary'])\n",
    "# HighBP\n",
    "print(df_copy.groupby(\"HighBP\")['Diabetes_binary'].mean())\n",
    "# HighChol\n",
    "print(df_copy.groupby(\"HighChol\")['Diabetes_binary'].mean())\n",
    "# BMI promedio (separado según diabetes)\n",
    "print(df_copy.groupby(\"Diabetes_binary\")['BMI'].mean())\n"
   ]
  },
  {
   "cell_type": "markdown",
   "metadata": {},
   "source": [
    "Podemos ver que hay una tendencia marcada que indica que las personas con diabetes tienden a tener la presión alta (``HighBP``) y el colesterol alto (``HighChol``). El índice de masa corporal (``BMI``) promedio de las personas con diabetes es levemente mayor que el de las personas sanas, pero no es tan notoria. La ilustraremos con un gráfico para entenderla mejor:"
   ]
  },
  {
   "cell_type": "code",
   "execution_count": null,
   "metadata": {},
   "outputs": [],
   "source": [
    "# se debe instalar scipy con 'pip install scipy' antes de correr esto\n",
    "df_copy.groupby('Diabetes_binary')['BMI'].plot.density(bw_method=0.3, legend=True)\n",
    "plt.xlim([10, 70])\n",
    "plt.xlabel('BMI')\n",
    "plt.ylabel('Cantidad')\n",
    "plt.legend(['No diabetes','Diabetes'])\n",
    "plt.show()"
   ]
  },
  {
   "cell_type": "markdown",
   "metadata": {},
   "source": [
    "Podemos notar que entre las personas con un mayor BMI hay una mayor cantidad de personas con diabetes, pero la tendencia está solo levemente marcada."
   ]
  },
  {
   "cell_type": "markdown",
   "metadata": {},
   "source": [
    "Ya que las columnas ``Fruits`` y ``Veggies`` ambas nos indican los hábitos alimenticios de las personas, buscamos la relación entre ellas:"
   ]
  },
  {
   "cell_type": "code",
   "execution_count": null,
   "metadata": {},
   "outputs": [],
   "source": [
    "df_copy.groupby('Fruits')['Veggies'].hist(alpha=0.5, legend=True)\n",
    "plt.xlabel('Veggies')\n",
    "plt.ylabel('Cantidad')\n",
    "plt.legend(['No fruits','Fruits'])\n",
    "plt.show()"
   ]
  },
  {
   "cell_type": "markdown",
   "metadata": {},
   "source": [
    "Se puede notar que las personas que comen veggies (barra derecha) en general también consumen fruta (barra naranja). De la misma forma se puede notar que las personas que **no** comen veggies (barra izquierda), en general tampoco comen frutas (barra azul). Pero también se puede notar que, dentro de las personas que **no comen frutas**, hay una mayor cantidad que sí come verduras. Calculemos la relación en ambas direcciones:"
   ]
  },
  {
   "cell_type": "code",
   "execution_count": null,
   "metadata": {},
   "outputs": [],
   "source": [
    "print(df_copy.groupby(\"Veggies\")['Fruits'].mean())\n",
    "print(df_copy.groupby(\"Fruits\")['Veggies'].mean())"
   ]
  },
  {
   "cell_type": "markdown",
   "metadata": {},
   "source": [
    "A través de esto podemos concluir que el consumo de verduras (``Veggies``) es el atributo que mejor representa la alimentación de las personas (el consumo de verduras es mejor para predecir el consumo de frutas que vice versa). Entonces el consumo de verduras nos indica de mejor manera los hábitos alimenticios de las personas (Las personas que no comen verduras tienden a tampoco comer frutas, mientras las personas que no comen frutas no muestran una tendencia a comer menos verduras). Además podemos notar que es mucho más común comer verduras que comer frutas.\n",
    "\n",
    "Ahora buscaremos la relación entre la alimentación de las personas y la tendencia a la diabetes:"
   ]
  },
  {
   "cell_type": "code",
   "execution_count": null,
   "metadata": {},
   "outputs": [],
   "source": [
    "df_copy.groupby('Diabetes_binary')[['Veggies','Fruits']].describe()"
   ]
  },
  {
   "cell_type": "markdown",
   "metadata": {},
   "source": [
    "Luego con esto podemos concluir que no hay una relación clara entre el consumo de frutas y verduras y la tendencia a la diabetes, por lo que eliminaremos dichas columnas del dataset. (y lloramos porque todo el análisis anterior no sirvió de nada)"
   ]
  },
  {
   "cell_type": "code",
   "execution_count": null,
   "metadata": {},
   "outputs": [],
   "source": [
    "df.drop([\"Veggies\", \"Fruits\"], axis = 1, inplace=True)\n",
    "print(\", \".join(df.columns))"
   ]
  },
  {
   "cell_type": "markdown",
   "metadata": {},
   "source": [
    "Buscaremos la relación entre los atributos de salud física y mental de las personas, y luego la compararemos con la salud general."
   ]
  },
  {
   "cell_type": "code",
   "execution_count": null,
   "metadata": {},
   "outputs": [],
   "source": [
    "df_copy.plot.scatter(x=\"PhysHlth\", y=\"MentHlth\", alpha=0.02, legend=True)\n",
    "plt.show()\n",
    "\n",
    "df_copy.plot.scatter(x=[\"PhysHlth\", 'GenHlth'], y=[\"MentHlth\",\"MentHlth\"], alpha=0.02, legend=True)\n",
    "plt.show()\n",
    "\n",
    "fig, ax = plt.subplots()\n",
    "for label in df_copy['GenHlth']:\n",
    "\n",
    "    df.plot('PhysHlth','MentHlth', kind='scatter', ax=ax, s=50, linewidth=0.1, label=label, c='red')"
   ]
  },
  {
   "cell_type": "code",
   "execution_count": null,
   "metadata": {},
   "outputs": [],
   "source": []
  },
  {
   "cell_type": "markdown",
   "metadata": {},
   "source": [
    "De esto podemos concluir que no hay una relación significativa entre la salud física y mental dentro de los últimos 30 días. A partir de ésto podemos confirmar que la salud mental no influye notoriamente en la salud física de las personas, por lo que este atributo no es un buen indicador para la diabetes. Eliminamos entonces la columna ``MentHlth``."
   ]
  },
  {
   "cell_type": "code",
   "execution_count": null,
   "metadata": {},
   "outputs": [],
   "source": [
    "df.drop([\"MentHlth\"], axis = 1, inplace=True)\n",
    "print(\", \".join(df.columns))"
   ]
  },
  {
   "cell_type": "code",
   "execution_count": null,
   "metadata": {},
   "outputs": [],
   "source": [
    "a = df_copy['CholCheck'].sum()\n",
    "b = df_copy['CholCheck'].count()\n",
    "print('Personas totales:',b)\n",
    "print('Personas checkeadas:',a)\n",
    "print(f'El { (a/b)*100 }% de las personas se ha checkeado')"
   ]
  },
  {
   "cell_type": "markdown",
   "metadata": {},
   "source": [
    "Acá podemos ver que sobre el 97% de las personas se checkeó el colesterol. Los datos así de heterogéneos no son muy útiles para predecir valores ya que al entrenar el atributo casi siempre toma el mismo valor."
   ]
  },
  {
   "cell_type": "code",
   "execution_count": null,
   "metadata": {},
   "outputs": [],
   "source": [
    "df_copy.groupby(\"DiffWalk\")[\"Diabetes_binary\"].describe()"
   ]
  },
  {
   "cell_type": "markdown",
   "metadata": {},
   "source": [
    "Acá podemos ver que en promedio, una mayor razón de personas con dificultad para caminar padecen de diabetes."
   ]
  },
  {
   "cell_type": "code",
   "execution_count": null,
   "metadata": {},
   "outputs": [],
   "source": [
    "#['Diabetes_binary', 'HighBP', 'HighChol', 'BMI', 'Smoker', 'Stroke', 'HeartDiseaseorAttack', 'HvyAlcoholConsump', 'GenHlth', 'PhysHlth', 'DiffWalk']"
   ]
  },
  {
   "cell_type": "markdown",
   "metadata": {},
   "source": [
    "# Actividad 3: Pre-procesando los datos"
   ]
  },
  {
   "cell_type": "markdown",
   "metadata": {},
   "source": [
    "Eliminaré las columnas de ``HairColor``, ``Income``, ``Education``, ``AnyHealthcare`` y ``NoDocbcCost`` porque son cosas que no indican nada acerca de la salud de las personas (o su tendencia a tener diabetes)\n",
    "\n",
    "Además eliminaré la columna ``MentHlth`` ya que la salud mental no afecta (tan directamente) en la salud física\n",
    "\n",
    "También se eliminan las columnas ``Height`` y ``Weight`` ya que estas componen al índice de masa corporal (``BMI``) y los atributos no debieran ser dependientes entre sí (además que el BMI es el atributo que nos entrega la información reelevante acerca de la salud de las personas).\n",
    "\n",
    "Como se vio en el punto anterior, hay sobre un 97.5% de personas que sí se hicieron un checkeo de colesterol, por lo que la columna ``CholCheck`` será eliminada porque la muestra es muy heterogénea con respecto a ese atributo."
   ]
  },
  {
   "cell_type": "code",
   "execution_count": null,
   "metadata": {},
   "outputs": [],
   "source": [
    "df.drop([\"HairColor\", \"Income\", \"Education\", \"AnyHealthcare\", \"NoDocbcCost\", \"MentHlth\", \"Height\", \"Weight\", \"CholCheck\"], axis = 1, inplace=True)\n",
    "print(\", \".join(df.columns))"
   ]
  },
  {
   "cell_type": "markdown",
   "metadata": {},
   "source": [
    "# Actividad 4: Entrenando al árbol"
   ]
  },
  {
   "cell_type": "markdown",
   "metadata": {},
   "source": [
    "#### Lo aconsejable para las actividad 4, 5 y 6 es que asignes cada modelo a una variable diferente"
   ]
  },
  {
   "cell_type": "code",
   "execution_count": null,
   "metadata": {},
   "outputs": [],
   "source": [
    "# Escribe tu código aquí. Puedes crear todas las celdas que consideres necesario."
   ]
  },
  {
   "cell_type": "markdown",
   "metadata": {},
   "source": [
    "# Actividad 5: Ensamblaje simple"
   ]
  },
  {
   "cell_type": "code",
   "execution_count": null,
   "metadata": {},
   "outputs": [],
   "source": [
    "# Escribe tu código aquí. Puedes crear todas las celdas que consideres necesario."
   ]
  },
  {
   "cell_type": "markdown",
   "metadata": {},
   "source": [
    "# Actividad 6: Random forest real"
   ]
  },
  {
   "cell_type": "code",
   "execution_count": null,
   "metadata": {},
   "outputs": [],
   "source": [
    "# Escribe tu código aquí. Puedes crear todas las celdas que consideres necesario."
   ]
  }
 ],
 "metadata": {
  "kernelspec": {
   "display_name": "Python 3.10.7 64-bit",
   "language": "python",
   "name": "python3"
  },
  "language_info": {
   "codemirror_mode": {
    "name": "ipython",
    "version": 3
   },
   "file_extension": ".py",
   "mimetype": "text/x-python",
   "name": "python",
   "nbconvert_exporter": "python",
   "pygments_lexer": "ipython3",
   "version": "3.10.7"
  },
  "orig_nbformat": 4,
  "vscode": {
   "interpreter": {
    "hash": "3d954efd7173ac33e00cb143e359c1ef1f0406e120e84a918a8a3a49721c6fc9"
   }
  }
 },
 "nbformat": 4,
 "nbformat_minor": 2
}
