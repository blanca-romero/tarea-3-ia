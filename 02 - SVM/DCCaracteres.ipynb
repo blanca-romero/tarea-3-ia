{
 "cells": [
  {
   "cell_type": "markdown",
   "metadata": {
    "id": "PI4wJ-evNuyI"
   },
   "source": [
    "# Parte 2: DCCaracteres"
   ]
  },
  {
   "cell_type": "markdown",
   "metadata": {},
   "source": [
    "Luego de permanecer tanto tiempo trabajando en la salud, te das cuenta de que un problema serio es\n",
    "que nadie puede entender la letra de las/os doctores. Inspirado por tu reciente éxito en la prediccion de\n",
    "la diabetes, decides usar tus habilidades en SVM para crear un sistema capaz de interpretar la jeroglífica\n",
    "letra de estos profesionales."
   ]
  },
  {
   "cell_type": "code",
   "execution_count": 37,
   "metadata": {
    "_cell_guid": "b1076dfc-b9ad-4769-8c92-a6c4dae69d19",
    "_uuid": "8f2839f25d086af736a60e9eeb907d3b93b6e0e5",
    "id": "w8vsQzKENuyU"
   },
   "outputs": [],
   "source": [
    "import numpy as np\n",
    "import pandas as pd \n",
    "import matplotlib.pyplot as plt"
   ]
  },
  {
   "cell_type": "code",
   "execution_count": 21,
   "metadata": {
    "id": "5yOOXj6yNuyd"
   },
   "outputs": [],
   "source": [
    "df = pd.read_csv('../caracteres.csv', sep=',', index_col=0)"
   ]
  },
  {
   "cell_type": "markdown",
   "metadata": {
    "id": "gtaI8UD4Nuyi"
   },
   "source": [
    "## Actividad 1: Análisis preliminar de los datos "
   ]
  },
  {
   "cell_type": "markdown",
   "metadata": {
    "id": "cVM1xY0tNuyk"
   },
   "source": [
    "- 2.1 Verifica cuales son las diferentes categorías que existen y el balance entre estas. "
   ]
  },
  {
   "cell_type": "code",
   "execution_count": 25,
   "metadata": {},
   "outputs": [
    {
     "name": "stdout",
     "output_type": "stream",
     "text": [
      "['F' '4' 'Q' 'W' 'K' '1' 'D' 'O' 'C' '5' 'H' '3' 'E' 'J' 'T' 'P' 'Z' 'S'\n",
      " 'N' 'M' 'Y' '9' 'U' 'V' 'G' '7' '2' '8' 'A' '6' 'R' 'X' 'B' 'I' '0' 'L']\n",
      "36\n",
      "minimo: 2407\n",
      "maximo: 2418\n"
     ]
    }
   ],
   "source": [
    "# Cuáles y cuántas son las categorías existentes \n",
    "print(df['label'].unique())\n",
    "print(df['label'].nunique())\n",
    "\n",
    "# Veremos la cantidad de datos que hay por cada label\n",
    "cantidades = {}\n",
    "for i in df['label'].unique():\n",
    "    cantidades[i] = df['label'].loc[df['label'] == i].count()\n",
    "\n",
    "# imprimiremos el valor con más datos y el valor con menos datos\n",
    "print('minimo:', min(cantidades.values()))\n",
    "print('maximo:', max(cantidades.values()))"
   ]
  },
  {
   "cell_type": "markdown",
   "metadata": {},
   "source": [
    "Hay 36 categorías diferentes, cada una tiene entre 2407 y 2418 datos, lo que indica que los datos son muy homogéneos y las categorías tienen todas una cantidad de datos muy similar para entrenar el SVM."
   ]
  },
  {
   "cell_type": "markdown",
   "metadata": {},
   "source": [
    "- 2.2 Indica las ventajas de que balancear el número de instancias entre categorías para este problema en particular. Considere en su respuesta el desempeño en producción (cuando prediga datos reales) de un modelo entrenado con datos no balanceados."
   ]
  },
  {
   "cell_type": "markdown",
   "metadata": {},
   "source": [
    "Es importante balancear los datos para que no existan *biases* en el modelo entrenado. Se requiere la mayor cantidad de datos posibles en cada categoría para poder hacer el área de clasificación de cada una. Si se entrenara una SVM con datos imbalanceados habrían tendencias a la hora de predecir. Por ejemplo, si entrenamos ua SVM y usamos una categoría A con más datos que la categoría B, se tendrán más ejemplos para A, entonces su espacio será más grande que el de B (el algoritmo tendrá una tendencia hacia clasificar en A, porque no aprendió lo suficiente acerca de B). En este caso, si intentamos clasificar un dato de la clase B, este podría terminar siendo clasificado como A, porque el margen de decisión quedará corrido para un lado tal que sea más probable clasificar en A."
   ]
  },
  {
   "cell_type": "markdown",
   "metadata": {},
   "source": [
    "- 2.3 Lee el siguiente artículo, que aborda el problema de conjuntos de datos imbalanceados: https://developers.google.com/machine-learning/data-prep/construct/sampling-splitting/imbalanced-data y explica brevemente las dos estrategias mencionadas para lidiar el desbalance en los conjuntos de datos.\n"
   ]
  },
  {
   "cell_type": "markdown",
   "metadata": {},
   "source": [
    "**Submuestreo:** Reducir la cantidad de datos de la clase con más datos. Por ejemplo, si se tienen dos clases, A y B: A con 3 datos y B con 300 datos. En este caso se tiene un desequilibrio tal que A tiene aproximadamente el 1% de los datos mientras B tiene el otro 99%. el **submuestreo** busca reducir la cantidad de datos de B tal que (por ejemplo) se utilicen 30 en lugar de 300, así queda un desequilibrio mucho menor, y así A compone al 9% de los datos. Esta reducción es hecha **mediante un factor de 10**.\n",
    "\n",
    "**Aumento de peso:** Es un peso que se aplica a la clase que fue reducida (con **submuestreo**) de esta forma no se afecta la proporción real de las clases (si los datos realmente existen en una razón de 1:100, al submuestrear cambia la razón). Para devolver la razón original de los datos, **se aplica un peso igual al factor de reducción** de muestreo (en el caso anterior 10)"
   ]
  },
  {
   "cell_type": "markdown",
   "metadata": {
    "id": "lmJb_EsqqnMb"
   },
   "source": [
    "## Actividad 2: Preprocesamiento"
   ]
  },
  {
   "cell_type": "markdown",
   "metadata": {
    "id": "JwXGEGPMq_Ly"
   },
   "source": [
    "- Separa el conjunto de datos entre variables dependientes e independientes"
   ]
  },
  {
   "cell_type": "code",
   "execution_count": 26,
   "metadata": {
    "id": "kGhct3FjNuyx"
   },
   "outputs": [],
   "source": [
    "y = df[\"label\"]\n",
    "X = df.loc[:, df.columns != \"label\"]"
   ]
  },
  {
   "cell_type": "markdown",
   "metadata": {
    "id": "A3YTfM07rP2P"
   },
   "source": [
    "- Realiza un escalamiento de los datos. Justifica la importancia de escalar los datos antes de entrenar modelos como SVM. \n"
   ]
  },
  {
   "cell_type": "markdown",
   "metadata": {},
   "source": [
    "Se escalan los datos para trabajar con dimensiones similares dentro del espacio. Esto es muy importante ya que en el caso de usar distintas métricas o tipos de datos estos pueden afectar la distancia entre dos puntos del espacio de deción. Si trabajo con varios datos y tengo (por ejemplo) una columna con valores que van entre 0 y 1, y otra con valores entre 0 y 255. El espacio debe ser escalado porque en una columna un cambio de 0.9 representa un gran cambio, perola otra columna 0.9 representa un cambio muy pequeño. La idea es escalarlo para que la magnitud de los cambios sea similar en cada uno de los atributos.\n",
    "\n",
    "En este caso no se deben escalar los datos ya que todos toman valores entre 0 y 255, entonces los datos originales ya están escalados."
   ]
  },
  {
   "cell_type": "code",
   "execution_count": 44,
   "metadata": {
    "id": "omLpNO-mNuy0"
   },
   "outputs": [],
   "source": [
    "# Escalamiento de atributos\n",
    "X_scaled = X.to_numpy()"
   ]
  },
  {
   "cell_type": "code",
   "execution_count": 47,
   "metadata": {
    "colab": {
     "base_uri": "https://localhost:8080/",
     "height": 265
    },
    "id": "eSZbIwLDNuy2",
    "outputId": "397df458-0194-470c-99a9-9ade07f54f1e",
    "scrolled": true
   },
   "outputs": [
    {
     "data": {
      "image/png": "[encoded data removed]",
      "text/plain": [
       "<Figure size 640x480 with 1 Axes>"
      ]
     },
     "metadata": {},
     "output_type": "display_data"
    }
   ],
   "source": [
    "# Puedes usar esta celda para visualizar los caracteres\n",
    "img_data = X_scaled[1].reshape(28, 28).T\n",
    "plt.imshow(img_data, cmap=\"gray\")\n",
    "plt.show()"
   ]
  },
  {
   "cell_type": "markdown",
   "metadata": {
    "id": "z9OtpkaSY9g7"
   },
   "source": [
    "- Realiza un escalamiento de los datos. Justifica la importancia de escalar los datos antes de entrenar modelos como SVM. Verifica las proporciones de los datos entre categorías para cada subconjunto.\n"
   ]
  },
  {
   "cell_type": "markdown",
   "metadata": {},
   "source": [
    "Usaremos un 80% de los datos para entrenar y 20% de los datos para el test (según lo que vimos en clases). Usamos esta proporción porque se debe usar una gran cantidad de datos para entrenar al algoritmo, pero también se requiere una cantidad significativa para poder validar y testearlo, para saber que el entrenamiento que hicimos funciona"
   ]
  },
  {
   "cell_type": "code",
   "execution_count": 48,
   "metadata": {
    "id": "uR8MYsXMNuy4"
   },
   "outputs": [],
   "source": [
    "from sklearn.model_selection import train_test_split\n",
    "X_train, X_test, y_train, y_test = train_test_split(X, y, test_size=0.2)"
   ]
  },
  {
   "cell_type": "code",
   "execution_count": 56,
   "metadata": {},
   "outputs": [
    {
     "name": "stdout",
     "output_type": "stream",
     "text": [
      "Tamaño X train (69491, 784)\n",
      "Tamaño y train (69491,)\n",
      "Tamaño X test  (17373, 784)\n",
      "Tamaño y test  (17373,)\n",
      "minima proporcion train: 0.027010692032061707\n",
      "maxima proporcion train: 0.028363385186570923\n",
      "minima proporcion test: 0.02561445921832729\n",
      "maxima proporcion test: 0.030910032809532032\n"
     ]
    }
   ],
   "source": [
    "# vemos el tamaño de nuestros sets\n",
    "print(f\"Tamaño X train {X_train.shape}\")\n",
    "print(f\"Tamaño y train {y_train.shape}\")\n",
    "print(f\"Tamaño X test  {X_test.shape}\")\n",
    "print(f\"Tamaño y test  {y_test.shape}\")\n",
    "\n",
    "# tenemos que ver la proporción de cada letra en cada uno de los sets\n",
    "proporciones_test = {}\n",
    "proporciones_train = {}\n",
    "tamano_train = len(y_train)\n",
    "tamano_test = len(y_test)\n",
    "for i in df['label'].unique():\n",
    "    # la proporción es la cantidad de datos pertenecientes a la clase / cantidad de datos totales\n",
    "    proporciones_train[i] = y_train.loc[y_train == i].count() / tamano_train\n",
    "    proporciones_test[i] = y_test.loc[y_test == i].count() / tamano_test\n",
    "\n",
    "# imprimiremos la proporción más baja y la más alta\n",
    "print('minima proporcion train:', min(proporciones_train.values()))\n",
    "print('maxima proporcion train:', max(proporciones_train.values()))\n",
    "\n",
    "print('minima proporcion test:', min(proporciones_test.values()))\n",
    "print('maxima proporcion test:', max(proporciones_test.values()))"
   ]
  },
  {
   "cell_type": "markdown",
   "metadata": {},
   "source": [
    "Todas las clases tienen una proporción similar en ambos sets, al igual que en el set general, se dividieron homogéneamente"
   ]
  },
  {
   "cell_type": "markdown",
   "metadata": {
    "id": "GQk6_F_9Nuy5"
   },
   "source": [
    "## Actividad 3:  Entrenamiento de modelo lineal"
   ]
  },
  {
   "cell_type": "markdown",
   "metadata": {
    "id": "eVJB-KYaYEVV"
   },
   "source": [
    "- Entrena un modelo lineal que identifique caracteres. Para eso, utiliza el módulo SVC de la librería sklean.svm. Visualiza los resultados de tu modelo mediane una matriz de confusión, e identifica las categorías más confundidas entre sí."
   ]
  },
  {
   "cell_type": "code",
   "execution_count": 57,
   "metadata": {
    "id": "pdS-1uOINuy6"
   },
   "outputs": [],
   "source": [
    "from sklearn import svm\n",
    "\n",
    "# Modelo con kernel lineal\n",
    "linear_classifier = svm.SVC(kernel = \"linear\")\n",
    "\n",
    "# Entrenamiento\n",
    "linear_classifier.fit(X_train, y_train)\n",
    "svm_classifier = linear_classifier\n",
    "\n",
    "# Predicción\n",
    "pred1 = svm_classifier.predict(X_test)"
   ]
  },
  {
   "cell_type": "code",
   "execution_count": null,
   "metadata": {
    "colab": {
     "base_uri": "https://localhost:8080/",
     "height": 1000
    },
    "id": "73xwzhI5Nuy9",
    "outputId": "de56cdf4-e101-46c5-c6b6-75eeb1e90f89",
    "scrolled": true
   },
   "outputs": [],
   "source": [
    "# Matriz de confusión del modelo lineal\n",
    "from sklearn import metrics\n",
    "\n",
    "metrics.confusion_matrix(y_test, pred1)"
   ]
  },
  {
   "cell_type": "markdown",
   "metadata": {},
   "source": [
    "- Calcula el accuracy para el modelo lineal. Obtén además los puntajes de precission, recall y f1-score para cada uno de las categorías del modelo entrenado. Comente sobre el rendimiento del modelo en base a estos resultados y los de la matriz de confusi ́on, y formula una hipótesis que pueda explicar los resultados obtenidos. En tu explicación, se espera que incorpores las métricas solicitadas y demuestres un manejo de su significado."
   ]
  },
  {
   "cell_type": "code",
   "execution_count": null,
   "metadata": {},
   "outputs": [],
   "source": [
    "# Métricas del modelo lineal\n",
    "print('accuracy:',metrics.accuracy_score(y_test, pred1))\n",
    "\n",
    "print('Recall score:', metrics.recall_score(y_test, pred1))\n",
    "print(\"Precision score:\", metrics.precision_score(y_test, pred1))"
   ]
  },
  {
   "cell_type": "markdown",
   "metadata": {
    "id": "F2t9qodiWsyL"
   },
   "source": [
    "## Actividad 4: Entrenamiento de modelo no lineal\n",
    "\n",
    "- Investiga sobre el kernel RBF. Explica su funcionamiento en términos generales y las ventajas o desventajes que puede tener éste modelo en comparación con un kernel lineal."
   ]
  },
  {
   "cell_type": "markdown",
   "metadata": {},
   "source": [
    "- Entrena un modelo no lineal que identifique caracteres. Visualiza los resultados de tu modelo mediane una matriz de confusión, e identifica las categorías más confundidas entre sí."
   ]
  },
  {
   "cell_type": "code",
   "execution_count": null,
   "metadata": {},
   "outputs": [],
   "source": [
    "# Modelo con kernel no lineal \n",
    "\n",
    "# Entrenamiento\n",
    "\n",
    "# Predicción"
   ]
  },
  {
   "cell_type": "markdown",
   "metadata": {},
   "source": [
    "- Calcula el accuracy para el modelo no lineal. Obtén además los puntajes de precission, recall y f1-score para cada uno de las categorías del modelo entrenado. Comente sobre el rendimiento del modelo en base a estos resultados y los de la matriz de confusión, y formula una hipótesis que pueda explicar los resultados obtenidos. En tu explicación, se espera que incorpores las métricas solicitadas y demuestres un manejo de su significado."
   ]
  },
  {
   "cell_type": "code",
   "execution_count": null,
   "metadata": {},
   "outputs": [],
   "source": [
    "# Matriz de confusión del modelo no lineal\n"
   ]
  },
  {
   "cell_type": "code",
   "execution_count": null,
   "metadata": {
    "colab": {
     "base_uri": "https://localhost:8080/",
     "height": 1000
    },
    "id": "zp_CNLpUNuzC",
    "outputId": "78474f08-2742-4915-ca21-bf8b1c91301a"
   },
   "outputs": [],
   "source": [
    "# Métricas del modelo no lineal"
   ]
  },
  {
   "cell_type": "markdown",
   "metadata": {
    "id": "Lbfza8q4NuzH"
   },
   "source": [
    "## Actividad 5: Optimización del modelo\n"
   ]
  },
  {
   "cell_type": "markdown",
   "metadata": {
    "id": "CeqNwMVJYL1K"
   },
   "source": [
    "Investiga los siguientes hiperparámetros que pueden ajustarse para el entrenamiento de SVM:\n",
    "- C\n",
    "- Gamma\n",
    "\n",
    "Detalla en tu respuesta qué hace cada uno de estos, en qué circunstancias pueden especificarse su valor, y cuales son los posibles efectos no deseados de utilizar valores extremos para ámbos hiperparámetros."
   ]
  },
  {
   "cell_type": "markdown",
   "metadata": {
    "id": "k_cSQWjh6oNq"
   },
   "source": [
    "- Investiga sobre el m ́etodo de cross validation. Explica brevemente en qu ́e consiste, y cuál es su utilidad en la validación de un modelo entrenado."
   ]
  },
  {
   "cell_type": "markdown",
   "metadata": {},
   "source": [
    "- Investiga y explica brevemente en qué consiste la optimización de hiperparámetros en base a Grid Search, e indica el rol de cross validation en este método."
   ]
  },
  {
   "cell_type": "markdown",
   "metadata": {},
   "source": [
    "\n",
    "- Ejecuta una optimización en grid search en base al conjunto de hiperparámetros que consideres conveniente. Evalúa el modelo obtenido en el set de testeo, y grafica la matriz de confusión.\n"
   ]
  },
  {
   "cell_type": "code",
   "execution_count": null,
   "metadata": {},
   "outputs": [],
   "source": [
    "# Iteración de hiperparámetros con Grid Search"
   ]
  },
  {
   "cell_type": "code",
   "execution_count": null,
   "metadata": {},
   "outputs": [],
   "source": [
    "# Matriz de confusión del modelo optimizado"
   ]
  },
  {
   "cell_type": "markdown",
   "metadata": {},
   "source": [
    "- Reporta el accuracy obtenido, y el precision, recall y f1-score para cada categoría. Compara los resultados con los obtenidos para los otros modelos.\n"
   ]
  },
  {
   "cell_type": "code",
   "execution_count": null,
   "metadata": {},
   "outputs": [],
   "source": [
    "# Métricas del modelo optimizado"
   ]
  },
  {
   "cell_type": "markdown",
   "metadata": {},
   "source": [
    "- En base a los resultados obtenidos con el modelo optimizado, comenta brevemente sobre las principales virtudes y limitaciones del SVM en el contexto de visi ́on por computador. En tu respuesta, procura aludir a las categorías con mejor y con peor desempe ̃no bajo las m ́etricas estudiadas. Por último, comenta sobre métodos adicionales a los vistos en esta tarea que podr ́ıan mejorar el rendimiento de SVM en el contexto del reconocimiento de caracteres."
   ]
  },
  {
   "cell_type": "code",
   "execution_count": null,
   "metadata": {
    "id": "o_r3ibbAB_Kr"
   },
   "outputs": [],
   "source": []
  }
 ],
 "metadata": {
  "colab": {
   "collapsed_sections": [],
   "provenance": []
  },
  "kernelspec": {
   "display_name": "Python 3.10.7 64-bit",
   "language": "python",
   "name": "python3"
  },
  "language_info": {
   "codemirror_mode": {
    "name": "ipython",
    "version": 3
   },
   "file_extension": ".py",
   "mimetype": "text/x-python",
   "name": "python",
   "nbconvert_exporter": "python",
   "pygments_lexer": "ipython3",
   "version": "3.10.7"
  },
  "vscode": {
   "interpreter": {
    "hash": "3d954efd7173ac33e00cb143e359c1ef1f0406e120e84a918a8a3a49721c6fc9"
   }
  }
 },
 "nbformat": 4,
 "nbformat_minor": 1
}
