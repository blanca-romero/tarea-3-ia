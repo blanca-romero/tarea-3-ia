{
 "cells": [
  {
   "cell_type": "markdown",
   "metadata": {
    "id": "PI4wJ-evNuyI"
   },
   "source": [
    "# Parte 2: DCCaracteres"
   ]
  },
  {
   "cell_type": "markdown",
   "metadata": {},
   "source": [
    "Luego de permanecer tanto tiempo trabajando en la salud, te das cuenta de que un problema serio es\n",
    "que nadie puede entender la letra de las/os doctores. Inspirado por tu reciente éxito en la prediccion de\n",
    "la diabetes, decides usar tus habilidades en SVM para crear un sistema capaz de interpretar la jeroglífica\n",
    "letra de estos profesionales."
   ]
  },
  {
   "cell_type": "code",
   "execution_count": null,
   "metadata": {
    "_cell_guid": "b1076dfc-b9ad-4769-8c92-a6c4dae69d19",
    "_uuid": "8f2839f25d086af736a60e9eeb907d3b93b6e0e5",
    "id": "w8vsQzKENuyU"
   },
   "outputs": [],
   "source": [
    "import numpy as np\n",
    "import pandas as pd "
   ]
  },
  {
   "cell_type": "code",
   "execution_count": null,
   "metadata": {
    "id": "5yOOXj6yNuyd"
   },
   "outputs": [],
   "source": [
    "df = # Aquí debes leer el archivo .csv entregado"
   ]
  },
  {
   "cell_type": "markdown",
   "metadata": {
    "id": "gtaI8UD4Nuyi"
   },
   "source": [
    "## Actividad 1: Análisis preliminar de los datos "
   ]
  },
  {
   "cell_type": "markdown",
   "metadata": {
    "id": "cVM1xY0tNuyk"
   },
   "source": [
    "- 2.1 Verifica cuales son las diferentes categorías que existen y el balance entre estas. "
   ]
  },
  {
   "cell_type": "markdown",
   "metadata": {},
   "source": [
    "- 2.2 Indica las ventajas de que balancear el número de instancias entre categorías para este problema en particular. Considere en su respuesta el desempeño en producción (cuando prediga datos reales) de un modelo entrenado con datos no balanceados."
   ]
  },
  {
   "cell_type": "markdown",
   "metadata": {},
   "source": [
    "- 2.3 Lee el siguiente artículo, que aborda el problema de conjuntos de datos imbalanceados: https://developers.google.com/machine-learning/data-prep/construct/sampling-splitting/imbalanced-data y explica brevemente las dos estrategias mencionadas para lidiar el desbalance en los conjuntos de datos.\n"
   ]
  },
  {
   "cell_type": "markdown",
   "metadata": {
    "id": "lmJb_EsqqnMb"
   },
   "source": [
    "## Actividad 2: Preprocesamiento"
   ]
  },
  {
   "cell_type": "markdown",
   "metadata": {
    "id": "JwXGEGPMq_Ly"
   },
   "source": [
    "- Separa el conjunto de datos entre variables dependientes e independientes"
   ]
  },
  {
   "cell_type": "code",
   "execution_count": null,
   "metadata": {
    "id": "kGhct3FjNuyx"
   },
   "outputs": [],
   "source": [
    "y = # Variable dependiente\n",
    "X = # Variable independiente"
   ]
  },
  {
   "cell_type": "markdown",
   "metadata": {
    "id": "A3YTfM07rP2P"
   },
   "source": [
    "- Realiza un escalamiento de los datos. Justifica la importancia de escalar los datos antes de entrenar modelos como SVM. \n"
   ]
  },
  {
   "cell_type": "code",
   "execution_count": null,
   "metadata": {
    "id": "omLpNO-mNuy0"
   },
   "outputs": [],
   "source": [
    "# Escalamiento de atributos\n",
    "\n",
    "X_scaled = # Aquí debes realizar el escalamiento de los datos"
   ]
  },
  {
   "cell_type": "code",
   "execution_count": null,
   "metadata": {
    "colab": {
     "base_uri": "https://localhost:8080/",
     "height": 265
    },
    "id": "eSZbIwLDNuy2",
    "outputId": "397df458-0194-470c-99a9-9ade07f54f1e",
    "scrolled": true
   },
   "outputs": [],
   "source": [
    "# Puedes usar esta celda para visualizar los caracteres\n",
    "\n",
    "img_data = X_scaled[0].reshape(28, 28).T\n",
    "plt.imshow(img_data, cmap=\"gray\")\n",
    "plt.show()"
   ]
  },
  {
   "cell_type": "markdown",
   "metadata": {
    "id": "z9OtpkaSY9g7"
   },
   "source": [
    "- Realiza un escalamiento de los datos. Justifica la importancia de escalar los datos antes de entrenar modelos como SVM. Verifica las proporciones de los datos entre categorías para cada subconjunto.\n"
   ]
  },
  {
   "cell_type": "code",
   "execution_count": null,
   "metadata": {
    "id": "uR8MYsXMNuy4"
   },
   "outputs": [],
   "source": [
    "# Separación de variables dependientes e independientes en entrenamiento y testeo\n"
   ]
  },
  {
   "cell_type": "markdown",
   "metadata": {
    "id": "GQk6_F_9Nuy5"
   },
   "source": [
    "## Actividad 3:  Entrenamiento de modelo lineal"
   ]
  },
  {
   "cell_type": "markdown",
   "metadata": {
    "id": "eVJB-KYaYEVV"
   },
   "source": [
    "- Entrena un modelo lineal que identifique caracteres. Para eso, utiliza el módulo SVC de la librería sklean.svm. Visualiza los resultados de tu modelo mediane una matriz de confusión, e identifica las categorías más confundidas entre sí."
   ]
  },
  {
   "cell_type": "code",
   "execution_count": null,
   "metadata": {
    "id": "pdS-1uOINuy6"
   },
   "outputs": [],
   "source": [
    "# Modelo con kernel lineal\n",
    "\n",
    "# Entrenamiento\n",
    "\n",
    "# Predicción"
   ]
  },
  {
   "cell_type": "code",
   "execution_count": null,
   "metadata": {
    "colab": {
     "base_uri": "https://localhost:8080/",
     "height": 1000
    },
    "id": "73xwzhI5Nuy9",
    "outputId": "de56cdf4-e101-46c5-c6b6-75eeb1e90f89",
    "scrolled": true
   },
   "outputs": [],
   "source": [
    "# Matriz de confusión del modelo lineal\n"
   ]
  },
  {
   "cell_type": "markdown",
   "metadata": {},
   "source": [
    "- Calcula el accuracy para el modelo lineal. Obtén además los puntajes de precission, recall y f1-score para cada uno de las categorías del modelo entrenado. Comente sobre el rendimiento del modelo en base a estos resultados y los de la matriz de confusi ́on, y formula una hipótesis que pueda explicar los resultados obtenidos. En tu explicación, se espera que incorpores las métricas solicitadas y demuestres un manejo de su significado."
   ]
  },
  {
   "cell_type": "code",
   "execution_count": null,
   "metadata": {},
   "outputs": [],
   "source": [
    "# Métricas del modelo lineal"
   ]
  },
  {
   "cell_type": "markdown",
   "metadata": {
    "id": "F2t9qodiWsyL"
   },
   "source": [
    "## Actividad 4: Entrenamiento de modelo no lineal\n",
    "\n",
    "- Investiga sobre el kernel RBF. Explica su funcionamiento en términos generales y las ventajas o desventajes que puede tener éste modelo en comparación con un kernel lineal."
   ]
  },
  {
   "cell_type": "markdown",
   "metadata": {},
   "source": [
    "- Entrena un modelo no lineal que identifique caracteres. Visualiza los resultados de tu modelo mediane una matriz de confusión, e identifica las categorías más confundidas entre sí."
   ]
  },
  {
   "cell_type": "code",
   "execution_count": null,
   "metadata": {},
   "outputs": [],
   "source": [
    "# Modelo con kernel no lineal \n",
    "\n",
    "# Entrenamiento\n",
    "\n",
    "# Predicción"
   ]
  },
  {
   "cell_type": "markdown",
   "metadata": {},
   "source": [
    "- Calcula el accuracy para el modelo no lineal. Obtén además los puntajes de precission, recall y f1-score para cada uno de las categorías del modelo entrenado. Comente sobre el rendimiento del modelo en base a estos resultados y los de la matriz de confusión, y formula una hipótesis que pueda explicar los resultados obtenidos. En tu explicación, se espera que incorpores las métricas solicitadas y demuestres un manejo de su significado."
   ]
  },
  {
   "cell_type": "code",
   "execution_count": null,
   "metadata": {},
   "outputs": [],
   "source": [
    "# Matriz de confusión del modelo no lineal\n"
   ]
  },
  {
   "cell_type": "code",
   "execution_count": null,
   "metadata": {
    "colab": {
     "base_uri": "https://localhost:8080/",
     "height": 1000
    },
    "id": "zp_CNLpUNuzC",
    "outputId": "78474f08-2742-4915-ca21-bf8b1c91301a"
   },
   "outputs": [],
   "source": [
    "# Métricas del modelo no lineal"
   ]
  },
  {
   "cell_type": "markdown",
   "metadata": {
    "id": "Lbfza8q4NuzH"
   },
   "source": [
    "## Actividad 5: Optimización del modelo\n"
   ]
  },
  {
   "cell_type": "markdown",
   "metadata": {
    "id": "CeqNwMVJYL1K"
   },
   "source": [
    "Investiga los siguientes hiperparámetros que pueden ajustarse para el entrenamiento de SVM:\n",
    "- C\n",
    "- Gamma\n",
    "\n",
    "Detalla en tu respuesta qué hace cada uno de estos, en qué circunstancias pueden especificarse su valor, y cuales son los posibles efectos no deseados de utilizar valores extremos para ámbos hiperparámetros."
   ]
  },
  {
   "cell_type": "markdown",
   "metadata": {
    "id": "k_cSQWjh6oNq"
   },
   "source": [
    "- Investiga sobre el m ́etodo de cross validation. Explica brevemente en qu ́e consiste, y cuál es su utilidad en la validación de un modelo entrenado."
   ]
  },
  {
   "cell_type": "markdown",
   "metadata": {},
   "source": [
    "- Investiga y explica brevemente en qué consiste la optimización de hiperparámetros en base a Grid Search, e indica el rol de cross validation en este método."
   ]
  },
  {
   "cell_type": "markdown",
   "metadata": {},
   "source": [
    "\n",
    "- Ejecuta una optimización en grid search en base al conjunto de hiperparámetros que consideres conveniente. Evalúa el modelo obtenido en el set de testeo, y grafica la matriz de confusión.\n"
   ]
  },
  {
   "cell_type": "code",
   "execution_count": null,
   "metadata": {},
   "outputs": [],
   "source": [
    "# Iteración de hiperparámetros con Grid Search"
   ]
  },
  {
   "cell_type": "code",
   "execution_count": null,
   "metadata": {},
   "outputs": [],
   "source": [
    "# Matriz de confusión del modelo optimizado"
   ]
  },
  {
   "cell_type": "markdown",
   "metadata": {},
   "source": [
    "- Reporta el accuracy obtenido, y el precision, recall y f1-score para cada categoría. Compara los resultados con los obtenidos para los otros modelos.\n"
   ]
  },
  {
   "cell_type": "code",
   "execution_count": null,
   "metadata": {},
   "outputs": [],
   "source": [
    "# Métricas del modelo optimizado"
   ]
  },
  {
   "cell_type": "markdown",
   "metadata": {},
   "source": [
    "- En base a los resultados obtenidos con el modelo optimizado, comenta brevemente sobre las principales virtudes y limitaciones del SVM en el contexto de visi ́on por computador. En tu respuesta, procura aludir a las categorías con mejor y con peor desempe ̃no bajo las m ́etricas estudiadas. Por último, comenta sobre métodos adicionales a los vistos en esta tarea que podr ́ıan mejorar el rendimiento de SVM en el contexto del reconocimiento de caracteres."
   ]
  },
  {
   "cell_type": "code",
   "execution_count": null,
   "metadata": {
    "id": "o_r3ibbAB_Kr"
   },
   "outputs": [],
   "source": []
  }
 ],
 "metadata": {
  "colab": {
   "collapsed_sections": [],
   "provenance": []
  },
  "kernelspec": {
   "display_name": "Python 3 (ipykernel)",
   "language": "python",
   "name": "python3"
  },
  "language_info": {
   "codemirror_mode": {
    "name": "ipython",
    "version": 3
   },
   "file_extension": ".py",
   "mimetype": "text/x-python",
   "name": "python",
   "nbconvert_exporter": "python",
   "pygments_lexer": "ipython3",
   "version": "3.10.6"
  }
 },
 "nbformat": 4,
 "nbformat_minor": 1
}
